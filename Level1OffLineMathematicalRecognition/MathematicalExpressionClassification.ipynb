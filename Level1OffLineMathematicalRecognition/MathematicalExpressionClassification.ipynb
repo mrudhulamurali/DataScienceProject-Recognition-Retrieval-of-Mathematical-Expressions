{
 "cells": [
  {
   "cell_type": "code",
   "execution_count": 537,
   "metadata": {},
   "outputs": [
    {
     "data": {
      "text/plain": [
       "'channels_last'"
      ]
     },
     "execution_count": 537,
     "metadata": {},
     "output_type": "execute_result"
    }
   ],
   "source": [
    "#from sklearn.utils import shuffle\n",
    "#from sklearn.cross_validation import train_test_split\n",
    "#from sklearn.model_selection import train_test_split\n",
    "from keras import backend as K\n",
    "#K.set_image_dim_ordering('th')\n",
    "\n",
    "#from keras.backend.image_data_format()\n",
    "#keras.backend.set_image_data_format('th')\n",
    "K.image_data_format()"
   ]
  },
  {
   "cell_type": "code",
   "execution_count": 538,
   "metadata": {},
   "outputs": [],
   "source": [
    "#from keras.utils import np_utils\n",
    "from keras.models import Sequential\n",
    "from keras.layers.core import Dense, Dropout, Activation, Flatten\n",
    "from keras.layers.convolutional import Convolution2D, MaxPooling2D\n",
    "#from keras.optimizers import SGD,RMSprop,adam"
   ]
  },
  {
   "cell_type": "markdown",
   "metadata": {},
   "source": [
    "MatheMatical Expression Modelling"
   ]
  },
  {
   "cell_type": "code",
   "execution_count": 539,
   "metadata": {},
   "outputs": [],
   "source": [
    "#conda install keras"
   ]
  },
  {
   "cell_type": "code",
   "execution_count": 540,
   "metadata": {},
   "outputs": [],
   "source": [
    "# Import libraries\n",
    "import os,cv2\n",
    "import numpy as np\n",
    "import matplotlib.pyplot as plt\n",
    "import sklearn\n",
    "import keras\n",
    "import tensorflow as tf\n",
    "from tensorflow import keras"
   ]
  },
  {
   "cell_type": "code",
   "execution_count": 541,
   "metadata": {},
   "outputs": [],
   "source": [
    "#Rename the images in our dataset folder\n",
    "#preprocessing\n",
    "import os\n",
    "def rename_multiple_files(path,obj):\n",
    "    i=0\n",
    "    for filename in os.listdir(path):\n",
    "        try:\n",
    "            f,extension = os.path.splitext(path+filename)\n",
    "            src=path+filename\n",
    "            dst=path+obj+str(i)+extension\n",
    "            os.rename(src,dst)\n",
    "            i+=1\n",
    "            print('Rename successful.')\n",
    "        except:\n",
    "            i+=1"
   ]
  },
  {
   "cell_type": "code",
   "execution_count": 542,
   "metadata": {},
   "outputs": [
    {
     "name": "stdout",
     "output_type": "stream",
     "text": [
      "Rename successful.\n",
      "Rename successful.\n",
      "Rename successful.\n",
      "Rename successful.\n",
      "Rename successful.\n",
      "Rename successful.\n",
      "Rename successful.\n",
      "Rename successful.\n",
      "Rename successful.\n",
      "Rename successful.\n",
      "Rename successful.\n",
      "Rename successful.\n",
      "Rename successful.\n",
      "Rename successful.\n",
      "Rename successful.\n",
      "Rename successful.\n",
      "Rename successful.\n",
      "Rename successful.\n",
      "Rename successful.\n",
      "Rename successful.\n",
      "Rename successful.\n",
      "Rename successful.\n",
      "Rename successful.\n",
      "Rename successful.\n",
      "Rename successful.\n",
      "Rename successful.\n",
      "Rename successful.\n",
      "Rename successful.\n",
      "Rename successful.\n",
      "Rename successful.\n",
      "Rename successful.\n",
      "Rename successful.\n",
      "Rename successful.\n",
      "Rename successful.\n",
      "Rename successful.\n",
      "Rename successful.\n",
      "Rename successful.\n",
      "Rename successful.\n",
      "Rename successful.\n",
      "Rename successful.\n",
      "Rename successful.\n",
      "Rename successful.\n",
      "Rename successful.\n",
      "Rename successful.\n",
      "Rename successful.\n",
      "Rename successful.\n",
      "Rename successful.\n",
      "Rename successful.\n",
      "Rename successful.\n",
      "Rename successful.\n",
      "Rename successful.\n",
      "Rename successful.\n",
      "Rename successful.\n",
      "Rename successful.\n",
      "Rename successful.\n",
      "Rename successful.\n",
      "Rename successful.\n",
      "Rename successful.\n",
      "Rename successful.\n",
      "Rename successful.\n",
      "Rename successful.\n",
      "Rename successful.\n",
      "Rename successful.\n",
      "Rename successful.\n",
      "Rename successful.\n",
      "Rename successful.\n",
      "Rename successful.\n",
      "Rename successful.\n",
      "Rename successful.\n",
      "Rename successful.\n",
      "Rename successful.\n",
      "Rename successful.\n",
      "Rename successful.\n",
      "Rename successful.\n",
      "Rename successful.\n",
      "Rename successful.\n",
      "Rename successful.\n",
      "Rename successful.\n",
      "Rename successful.\n",
      "Rename successful.\n"
     ]
    }
   ],
   "source": [
    "# Define data path\n",
    "PATH = os.getcwd()\n",
    "PATH\n",
    "data_path = PATH + '\\\\Main\\\\math\\\\'\n",
    "obj=\"math\"\n",
    "#rename mathematical images\n",
    "rename_multiple_files(data_path,obj)\n",
    "\n",
    "#rename non-mathematical images\n",
    "data_path1 = PATH + '\\\\Main\\\\nonmath\\\\'\n",
    "obj1=\"nonmath\"\n",
    "rename_multiple_files(data_path1,obj1)"
   ]
  },
  {
   "cell_type": "code",
   "execution_count": 543,
   "metadata": {},
   "outputs": [
    {
     "data": {
      "text/plain": [
       "['math', 'nonmath']"
      ]
     },
     "execution_count": 543,
     "metadata": {},
     "output_type": "execute_result"
    }
   ],
   "source": [
    "# Define data path and folder names\n",
    "data_path = PATH + '\\\\Main\\\\'\n",
    "data_path\n",
    "data_dir_list_math = os.listdir(data_path)\n",
    "data_dir_list_math"
   ]
  },
  {
   "cell_type": "code",
   "execution_count": 544,
   "metadata": {},
   "outputs": [],
   "source": [
    "import shutil\n",
    "resizePath=PATH + '\\\\Resize\\\\'\n",
    "if os.path.exists(resizePath):\n",
    "        shutil.rmtree(resizePath)\n",
    "os.mkdir(resizePath)"
   ]
  },
  {
   "cell_type": "code",
   "execution_count": 545,
   "metadata": {},
   "outputs": [
    {
     "name": "stdout",
     "output_type": "stream",
     "text": [
      "Loading the images of dataset-math\n",
      "\n",
      "0\n",
      "Loading the images of dataset-nonmath\n",
      "\n",
      "1\n"
     ]
    }
   ],
   "source": [
    "#Create the image and label list\n",
    "img_rows=128\n",
    "img_cols=128\n",
    "num_channel=1\n",
    "num_epoch=20\n",
    "\n",
    "# Define the number of classes\n",
    "#num_classes = 4\n",
    "\n",
    "labels_name={'math':0,'nonmath':1}\n",
    "\n",
    "img_data_list=[]\n",
    "labels_list = []\n",
    "\n",
    "for dataset in data_dir_list_math:\n",
    "    os.mkdir(resizePath+\"\\\\\"+dataset)\n",
    "    img_list=os.listdir(data_path+'\\\\'+ dataset)\n",
    "    print ('Loading the images of dataset-'+'{}\\n'.format(dataset))\n",
    "    label = labels_name[dataset]\n",
    "    print(label)\n",
    "    for img in img_list:\n",
    "        resizePathnew=resizePath+\"\\\\\"+dataset+\"\\\\\"+img\n",
    "        input_img=cv2.imread(data_path + '/'+ dataset + '/'+ img )\n",
    "        input_img=cv2.cvtColor(input_img, cv2.COLOR_BGR2GRAY)\n",
    "        input_img_resize=cv2.resize(input_img,(128,128))\n",
    "        #input_img_flatten=cv2.resize(input_img,(128,128)).flatten()\n",
    "        cv2.imwrite(resizePathnew,input_img_resize)\n",
    "        img_data_list.append(input_img_resize)\n",
    "        labels_list.append(label)"
   ]
  },
  {
   "cell_type": "code",
   "execution_count": 546,
   "metadata": {},
   "outputs": [
    {
     "data": {
      "text/plain": [
       "173"
      ]
     },
     "execution_count": 546,
     "metadata": {},
     "output_type": "execute_result"
    }
   ],
   "source": [
    "#check the size of the label list\n",
    "len(labels_list)"
   ]
  },
  {
   "cell_type": "code",
   "execution_count": 547,
   "metadata": {},
   "outputs": [
    {
     "name": "stdout",
     "output_type": "stream",
     "text": [
      "(173, 128, 128)\n"
     ]
    }
   ],
   "source": [
    "#check the shape image from imagelist\n",
    "img_data = np.array(img_data_list)\n",
    "print (img_data.shape)"
   ]
  },
  {
   "cell_type": "code",
   "execution_count": 548,
   "metadata": {},
   "outputs": [
    {
     "data": {
      "text/plain": [
       "(-0.5, 127.5, 127.5, -0.5)"
      ]
     },
     "execution_count": 548,
     "metadata": {},
     "output_type": "execute_result"
    },
    {
     "data": {
      "image/png": "[encoded data removed]",
      "text/plain": [
       "<Figure size 432x288 with 1 Axes>"
      ]
     },
     "metadata": {
      "needs_background": "light"
     },
     "output_type": "display_data"
    }
   ],
   "source": [
    "#plot a image from image list\n",
    "some_math=img_data_list[16]\n",
    "plt.imshow(some_math,cmap=\"binary\")\n",
    "plt.axis('off')"
   ]
  },
  {
   "cell_type": "code",
   "execution_count": 549,
   "metadata": {},
   "outputs": [
    {
     "name": "stdout",
     "output_type": "stream",
     "text": [
      "(173, 128, 128)\n"
     ]
    }
   ],
   "source": [
    "#Convert the image to array\n",
    "img_data = np.array(img_data_list)\n",
    "#Convert the image to float\n",
    "img_data = img_data.astype('float32')\n",
    "#normalize the image\n",
    "img_data /= 255\n",
    "print (img_data.shape)"
   ]
  },
  {
   "cell_type": "code",
   "execution_count": 550,
   "metadata": {},
   "outputs": [
    {
     "data": {
      "text/plain": [
       "array([0.91, 0.91, 0.91, 0.91, 0.91, 0.91, 0.91, 0.91, 0.91, 0.91, 0.91,\n",
       "       0.91, 0.91, 0.91, 0.91, 0.91, 0.91, 0.91, 0.91, 0.91, 0.91, 0.91,\n",
       "       0.91, 0.91, 0.91, 0.91, 0.91, 0.91, 0.91, 0.91, 0.91, 0.91, 0.91,\n",
       "       0.91, 0.91, 0.91, 0.91, 0.91, 0.91, 0.91, 0.91, 0.91, 0.91, 0.91,\n",
       "       0.91, 0.91, 0.94, 0.89, 0.91, 0.9 , 0.92, 0.93, 0.89, 0.93, 0.88,\n",
       "       0.92, 0.88, 0.88, 0.94, 0.91, 0.91, 0.91, 0.91, 0.91, 0.91, 0.91,\n",
       "       0.91, 0.91, 0.91, 0.91, 0.91, 0.91, 0.91, 0.91, 0.91, 0.91, 0.91,\n",
       "       0.91, 0.91, 0.91, 0.91, 0.91, 0.91, 0.91, 0.91, 0.91, 0.91, 0.91,\n",
       "       0.91, 0.91, 0.91, 0.91, 0.91, 0.91, 0.91, 0.91, 0.91, 0.91, 0.91,\n",
       "       0.91, 0.91, 0.91, 0.91, 0.91, 0.91, 0.91, 0.91, 0.91, 0.91, 0.91,\n",
       "       0.91, 0.91, 0.91, 0.91, 0.91, 0.91, 0.91, 0.91, 0.91, 0.91, 0.91,\n",
       "       0.91, 0.91, 0.91, 0.91, 0.91, 0.91, 0.91], dtype=float32)"
      ]
     },
     "execution_count": 550,
     "metadata": {},
     "output_type": "execute_result"
    }
   ],
   "source": [
    "#check the first image\n",
    "img_data[0][0]"
   ]
  },
  {
   "cell_type": "code",
   "execution_count": 551,
   "metadata": {},
   "outputs": [
    {
     "data": {
      "text/plain": [
       "array([0, 0, 0, 0, 0, 0, 0, 0, 0, 0, 0, 0, 0, 0, 0, 0, 0, 0, 0, 0, 0, 0,\n",
       "       0, 0, 0, 0, 0, 0, 0, 0, 0, 0, 0, 0, 0, 0, 0, 0, 0, 0, 0, 0, 0, 0,\n",
       "       0, 0, 0, 0, 0, 0, 0, 0, 0, 0, 0, 0, 0, 0, 0, 0, 0, 0, 0, 0, 0, 0,\n",
       "       0, 0, 0, 0, 0, 0, 0, 0, 0, 0, 0, 0, 0, 0, 0, 0, 0, 0, 1, 1, 1, 1,\n",
       "       1, 1, 1, 1, 1, 1, 1, 1, 1, 1, 1, 1, 1, 1, 1, 1, 1, 1, 1, 1, 1, 1,\n",
       "       1, 1, 1, 1, 1, 1, 1, 1, 1, 1, 1, 1, 1, 1, 1, 1, 1, 1, 1, 1, 1, 1,\n",
       "       1, 1, 1, 1, 1, 1, 1, 1, 1, 1, 1, 1, 1, 1, 1, 1, 1, 1, 1, 1, 1, 1,\n",
       "       1, 1, 1, 1, 1, 1, 1, 1, 1, 1, 1, 1, 1, 1, 1, 1, 1, 1, 1])"
      ]
     },
     "execution_count": 551,
     "metadata": {},
     "output_type": "execute_result"
    }
   ],
   "source": [
    "#convert the label list to array\n",
    "labels = np.array(labels_list)\n",
    "labels"
   ]
  },
  {
   "cell_type": "code",
   "execution_count": 552,
   "metadata": {},
   "outputs": [
    {
     "data": {
      "text/plain": [
       "array([0, 0, 0, 0, 0, 0, 0, 0, 0, 0, 0, 0, 0, 0, 0, 0, 0, 0, 0, 0, 0, 0,\n",
       "       0, 0, 0, 0, 0, 0, 0, 0, 0, 0, 0, 0, 0, 0, 0, 0, 0, 0, 0, 0, 0, 0,\n",
       "       0, 0, 0, 0, 0, 0, 0, 0, 0, 0, 0, 0, 0, 0, 0, 0, 0, 0, 0, 0, 0, 0,\n",
       "       0, 0, 0, 0, 0, 0, 0, 0, 0, 0, 0, 0, 0, 0, 0, 0, 0, 0, 1, 1, 1, 1,\n",
       "       1, 1, 1, 1, 1, 1, 1, 1, 1, 1, 1, 1, 1, 1, 1, 1, 1, 1, 1, 1, 1, 1,\n",
       "       1, 1, 1, 1, 1, 1, 1, 1, 1, 1, 1, 1, 1, 1, 1, 1, 1, 1, 1, 1, 1, 1,\n",
       "       1, 1, 1, 1, 1, 1, 1, 1, 1, 1, 1, 1, 1, 1, 1, 1, 1, 1, 1, 1, 1, 1,\n",
       "       1, 1, 1, 1, 1, 1, 1, 1, 1, 1, 1, 1, 1, 1, 1, 1, 1, 1, 1],\n",
       "      dtype=uint8)"
      ]
     },
     "execution_count": 552,
     "metadata": {},
     "output_type": "execute_result"
    }
   ],
   "source": [
    "labels=labels.astype(np.uint8)\n",
    "labels"
   ]
  },
  {
   "cell_type": "code",
   "execution_count": 553,
   "metadata": {},
   "outputs": [
    {
     "name": "stdout",
     "output_type": "stream",
     "text": [
      "(array([0, 1], dtype=uint8), array([84, 89], dtype=int64))\n"
     ]
    },
    {
     "data": {
      "text/plain": [
       "array([0, 0, 0, 0, 0, 0, 0, 0, 0, 0, 0, 0, 0, 0, 0, 0, 0, 0, 0, 0, 0, 0,\n",
       "       0, 0, 0, 0, 0, 0, 0, 0, 0, 0, 0, 0, 0, 0, 0, 0, 0, 0, 0, 0, 0, 0,\n",
       "       0, 0, 0, 0, 0, 0, 0, 0, 0, 0, 0, 0, 0, 0, 0, 0, 0, 0, 0, 0, 0, 0,\n",
       "       0, 0, 0, 0, 0, 0, 0, 0, 0, 0, 0, 0, 0, 0, 0, 0, 0, 0, 1, 1, 1, 1,\n",
       "       1, 1, 1, 1, 1, 1, 1, 1, 1, 1, 1, 1, 1, 1, 1, 1, 1, 1, 1, 1, 1, 1,\n",
       "       1, 1, 1, 1, 1, 1, 1, 1, 1, 1, 1, 1, 1, 1, 1, 1, 1, 1, 1, 1, 1, 1,\n",
       "       1, 1, 1, 1, 1, 1, 1, 1, 1, 1, 1, 1, 1, 1, 1, 1, 1, 1, 1, 1, 1, 1,\n",
       "       1, 1, 1, 1, 1, 1, 1, 1, 1, 1, 1, 1, 1, 1, 1, 1, 1, 1, 1],\n",
       "      dtype=uint8)"
      ]
     },
     "execution_count": 553,
     "metadata": {},
     "output_type": "execute_result"
    }
   ],
   "source": [
    "# print the count of number of samples for different classes\n",
    "print(np.unique(labels,return_counts=True))\n",
    "# convert class labels to on-hot encoding\n",
    "#Y =keras.utils.to_categorical(labels,num_classes=None)\n",
    "Y=labels\n",
    "Y"
   ]
  },
  {
   "cell_type": "code",
   "execution_count": 554,
   "metadata": {},
   "outputs": [
    {
     "data": {
      "text/plain": [
       "0"
      ]
     },
     "execution_count": 554,
     "metadata": {},
     "output_type": "execute_result"
    }
   ],
   "source": [
    "Y[16]"
   ]
  },
  {
   "cell_type": "code",
   "execution_count": 555,
   "metadata": {},
   "outputs": [
    {
     "name": "stdout",
     "output_type": "stream",
     "text": [
      "(173, 128, 128, 1)\n"
     ]
    }
   ],
   "source": [
    "img_data= np.expand_dims(img_data, axis=3) \n",
    "print (img_data.shape)"
   ]
  },
  {
   "cell_type": "code",
   "execution_count": 556,
   "metadata": {},
   "outputs": [
    {
     "name": "stdout",
     "output_type": "stream",
     "text": [
      "0\n"
     ]
    }
   ],
   "source": [
    "#Shuffle the dataset\n",
    "from sklearn.utils import shuffle\n",
    "x,y = shuffle(img_data,Y, random_state=2)\n",
    "print(y[0])"
   ]
  },
  {
   "cell_type": "code",
   "execution_count": 557,
   "metadata": {},
   "outputs": [
    {
     "data": {
      "text/plain": [
       "(173,)"
      ]
     },
     "execution_count": 557,
     "metadata": {},
     "output_type": "execute_result"
    }
   ],
   "source": [
    "#print the shape of Y \n",
    "y.shape"
   ]
  },
  {
   "cell_type": "code",
   "execution_count": 558,
   "metadata": {},
   "outputs": [],
   "source": [
    "# Split the dataset into train and test \n",
    "from sklearn.model_selection import train_test_split\n",
    "X_train, X_test, y_train, y_test = train_test_split(x, y, test_size=0.2, random_state=2)"
   ]
  },
  {
   "cell_type": "code",
   "execution_count": 559,
   "metadata": {},
   "outputs": [
    {
     "data": {
      "text/plain": [
       "1"
      ]
     },
     "execution_count": 559,
     "metadata": {},
     "output_type": "execute_result"
    }
   ],
   "source": [
    "#check the shape of y train\n",
    "y_train[0]"
   ]
  },
  {
   "cell_type": "code",
   "execution_count": 560,
   "metadata": {},
   "outputs": [
    {
     "data": {
      "text/plain": [
       "(128, 128, 1)"
      ]
     },
     "execution_count": 560,
     "metadata": {},
     "output_type": "execute_result"
    }
   ],
   "source": [
    "#check the shape of  x train\n",
    "X_train[0].shape"
   ]
  },
  {
   "cell_type": "code",
   "execution_count": 561,
   "metadata": {},
   "outputs": [
    {
     "name": "stdout",
     "output_type": "stream",
     "text": [
      "(138, 128, 128, 1) (35, 128, 128, 1) (138,) (35,)\n"
     ]
    }
   ],
   "source": [
    "#check the shape of train and test datasets\n",
    "print(X_train.shape, X_test.shape, y_train.shape, y_test.shape)"
   ]
  },
  {
   "cell_type": "code",
   "execution_count": 562,
   "metadata": {},
   "outputs": [
    {
     "data": {
      "text/plain": [
       "(128, 128, 1)"
      ]
     },
     "execution_count": 562,
     "metadata": {},
     "output_type": "execute_result"
    }
   ],
   "source": [
    "#plot a random tain image\n",
    "some_math=X_train[0][0:]\n",
    "some_math.shape\n",
    "#plt.imshow(some_math,cmap=\"binary\")"
   ]
  },
  {
   "cell_type": "code",
   "execution_count": 563,
   "metadata": {},
   "outputs": [
    {
     "data": {
      "text/plain": [
       "(173, 128, 128, 1)"
      ]
     },
     "execution_count": 563,
     "metadata": {},
     "output_type": "execute_result"
    }
   ],
   "source": [
    "img_data.shape"
   ]
  },
  {
   "cell_type": "code",
   "execution_count": 564,
   "metadata": {},
   "outputs": [
    {
     "data": {
      "text/plain": [
       "<matplotlib.image.AxesImage at 0x212f245df60>"
      ]
     },
     "execution_count": 564,
     "metadata": {},
     "output_type": "execute_result"
    },
    {
     "data": {
      "image/png": "[encoded data removed]",
      "text/plain": [
       "<Figure size 432x288 with 1 Axes>"
      ]
     },
     "metadata": {
      "needs_background": "light"
     },
     "output_type": "display_data"
    }
   ],
   "source": [
    "train_data = np.reshape(X_train[0],(128, 128))\n",
    "train_data.shape\n",
    "plt.imshow(train_data,cmap=\"binary\")"
   ]
  },
  {
   "cell_type": "code",
   "execution_count": 565,
   "metadata": {},
   "outputs": [
    {
     "data": {
      "text/plain": [
       "array([[[0.91],\n",
       "        [0.91],\n",
       "        [0.91],\n",
       "        ...,\n",
       "        [0.91],\n",
       "        [0.91],\n",
       "        [0.91]],\n",
       "\n",
       "       [[0.91],\n",
       "        [0.91],\n",
       "        [0.91],\n",
       "        ...,\n",
       "        [0.91],\n",
       "        [0.91],\n",
       "        [0.91]],\n",
       "\n",
       "       [[0.91],\n",
       "        [0.91],\n",
       "        [0.91],\n",
       "        ...,\n",
       "        [0.91],\n",
       "        [0.91],\n",
       "        [0.91]],\n",
       "\n",
       "       ...,\n",
       "\n",
       "       [[0.91],\n",
       "        [0.91],\n",
       "        [0.91],\n",
       "        ...,\n",
       "        [0.91],\n",
       "        [0.91],\n",
       "        [0.91]],\n",
       "\n",
       "       [[0.91],\n",
       "        [0.91],\n",
       "        [0.91],\n",
       "        ...,\n",
       "        [0.91],\n",
       "        [0.91],\n",
       "        [0.91]],\n",
       "\n",
       "       [[0.91],\n",
       "        [0.91],\n",
       "        [0.91],\n",
       "        ...,\n",
       "        [0.91],\n",
       "        [0.91],\n",
       "        [0.91]]], dtype=float32)"
      ]
     },
     "execution_count": 565,
     "metadata": {},
     "output_type": "execute_result"
    }
   ],
   "source": [
    "img_data[0]"
   ]
  },
  {
   "cell_type": "code",
   "execution_count": 566,
   "metadata": {},
   "outputs": [
    {
     "data": {
      "text/plain": [
       "(173, 128, 128, 1)"
      ]
     },
     "execution_count": 566,
     "metadata": {},
     "output_type": "execute_result"
    }
   ],
   "source": [
    "input_shape=img_data.shape\n",
    "input_shape"
   ]
  },
  {
   "cell_type": "code",
   "execution_count": 515,
   "metadata": {},
   "outputs": [],
   "source": [
    "#num_classes=2  \n",
    "##Original One\n",
    "from keras.layers import Conv2D \n",
    "model = Sequential()\n",
    "\n",
    "model.add(Conv2D(filters=32,kernel_size=3,padding='same',input_shape=[128,128,1], activation ='relu'))\n",
    "#model.add(Activation('relu'))\n",
    "model.add(Conv2D(filters=32, kernel_size=3,activation ='relu'))\n",
    "#model.add(Activation('relu'))\n",
    "model.add(MaxPooling2D(pool_size=2,strides= 2,padding='valid'))\n",
    "model.add(Dropout(0.5))\n",
    "\n",
    "model.add(Conv2D(filters=64,kernel_size=3, activation ='relu'))\n",
    "#model.add(Activation('relu'))\n",
    "#model.add(Convolution2D(64, 3, 3))\n",
    "#model.add(Activation('relu'))\n",
    "model.add(MaxPooling2D(pool_size=2,strides= 2,padding='valid'))\n",
    "model.add(Dropout(0.5))\n",
    "\n",
    "model.add(Flatten())\n",
    "model.add(Dense(units=64,activation ='relu'))\n",
    "#model.add(Activation('relu'))\n",
    "model.add(Dropout(0.5))\n",
    "model.add(Dense(units=1,activation ='softmax'))\n",
    "#model.add(Activation('softmax'))"
   ]
  },
  {
   "cell_type": "code",
   "execution_count": 35,
   "metadata": {},
   "outputs": [],
   "source": [
    "#num_classes=2\n",
    "from keras.layers import Conv2D \n",
    "model = Sequential()\n",
    "\n",
    "model.add(Conv2D(filters=6,kernel_size=3,padding='same',input_shape=[128,128,1], activation ='relu',))\n",
    "#model.add(Activation('relu'))\n",
    "model.add(Conv2D(filters=32, kernel_size=3,activation ='relu'))\n",
    "#model.add(Activation('relu'))\n",
    "model.add(MaxPooling2D(pool_size=2,strides= 2))\n",
    "model.add(Dropout(0.5))\n",
    "\n",
    "model.add(Conv2D(filters=64,kernel_size=3, activation ='relu'))\n",
    "#model.add(Activation('relu'))\n",
    "#model.add(Convolution2D(64, 3, 3))\n",
    "#model.add(Activation('relu'))\n",
    "model.add(MaxPooling2D(pool_size=2,strides= 2))\n",
    "model.add(Dropout(0.5))\n",
    "\n",
    "model.add(Flatten())\n",
    "model.add(Dense(units=64,activation ='relu'))\n",
    "#model.add(Activation('relu'))\n",
    "model.add(Dropout(0.5))\n",
    "model.add(Dense(units=1,activation ='softmax'))\n",
    "#model.add(Activation('softmax'))"
   ]
  },
  {
   "cell_type": "code",
   "execution_count": 567,
   "metadata": {},
   "outputs": [],
   "source": [
    "# C1 Convolutional Layer\n",
    "from keras.layers import Conv2D \n",
    "from keras import models, layers\n",
    "from keras.layers import AveragePooling2D\n",
    "model = Sequential()\n",
    "\n",
    "#Initializations:\n",
    "xavier = keras.initializers.glorot_normal(seed=None)\n",
    "#glorot_normal(seed=None)\n",
    "\n",
    "model.add(Conv2D(6, kernel_size=(5, 5), strides=(1, 1), activation='tanh', input_shape=(128,128,1), padding='same'))\n",
    "# S2 Pooling Layer\n",
    "model.add(AveragePooling2D(pool_size=(2, 2), strides=(1, 1), padding='valid'))\n",
    "# C3 Convolutional Layer\n",
    "model.add(Conv2D(16, kernel_size=(5, 5), strides=(1, 1), activation='tanh', padding='valid'))\n",
    "# S4 Pooling Layer\n",
    "model.add(AveragePooling2D(pool_size=(2, 2), strides=(2, 2), padding='valid'))\n",
    "# C5 Fully Connected Convolutional Layer\n",
    "model.add(Conv2D(120, kernel_size=(5, 5), strides=(1, 1), activation='tanh', padding='valid'))\n",
    "#Flatten the CNN output so that we can connect it with fully connected layers\n",
    "model.add(MaxPooling2D(pool_size=(2,2),strides= 2,padding='valid'))\n",
    "model.add(Dropout(0.5))\n",
    "\n",
    "model.add(Flatten())\n",
    "# FC6 Fully Connected Layer\n",
    "model.add(Dense(84, activation='tanh'))\n",
    "model.add(Dense(50, activation='relu'))\n",
    "model.add(Dense(25, activation='relu'))\n",
    "#Output Layer with softmax activation\n",
    "model.add(Dense(1, activation='sigmoid'))\n",
    "# Compile the model\n",
    "#model.compile(loss=keras.losses.categorical_crossentropy, optimizer=’SGD’, metrics=[“accuracy”])"
   ]
  },
  {
   "cell_type": "code",
   "execution_count": 568,
   "metadata": {},
   "outputs": [],
   "source": [
    "#model.compile(loss='binary_crossentropy', optimizer='rmsprop',metrics=[\"accuracy\"])\n",
    "model.compile(loss='binary_crossentropy', optimizer='SGD', metrics=[\"accuracy\"])"
   ]
  },
  {
   "cell_type": "code",
   "execution_count": 569,
   "metadata": {},
   "outputs": [
    {
     "name": "stdout",
     "output_type": "stream",
     "text": [
      "Model: \"sequential_25\"\n",
      "_________________________________________________________________\n",
      "Layer (type)                 Output Shape              Param #   \n",
      "=================================================================\n",
      "conv2d_70 (Conv2D)           (None, 128, 128, 6)       156       \n",
      "_________________________________________________________________\n",
      "average_pooling2d_39 (Averag (None, 127, 127, 6)       0         \n",
      "_________________________________________________________________\n",
      "conv2d_71 (Conv2D)           (None, 123, 123, 16)      2416      \n",
      "_________________________________________________________________\n",
      "average_pooling2d_40 (Averag (None, 61, 61, 16)        0         \n",
      "_________________________________________________________________\n",
      "conv2d_72 (Conv2D)           (None, 57, 57, 120)       48120     \n",
      "_________________________________________________________________\n",
      "max_pooling2d_11 (MaxPooling (None, 28, 28, 120)       0         \n",
      "_________________________________________________________________\n",
      "dropout_15 (Dropout)         (None, 28, 28, 120)       0         \n",
      "_________________________________________________________________\n",
      "flatten_24 (Flatten)         (None, 94080)             0         \n",
      "_________________________________________________________________\n",
      "dense_62 (Dense)             (None, 84)                7902804   \n",
      "_________________________________________________________________\n",
      "dense_63 (Dense)             (None, 50)                4250      \n",
      "_________________________________________________________________\n",
      "dense_64 (Dense)             (None, 25)                1275      \n",
      "_________________________________________________________________\n",
      "dense_65 (Dense)             (None, 1)                 26        \n",
      "=================================================================\n",
      "Total params: 7,959,047\n",
      "Trainable params: 7,959,047\n",
      "Non-trainable params: 0\n",
      "_________________________________________________________________\n"
     ]
    },
    {
     "data": {
      "text/plain": [
       "True"
      ]
     },
     "execution_count": 569,
     "metadata": {},
     "output_type": "execute_result"
    }
   ],
   "source": [
    "model.summary()\n",
    "model.get_config()\n",
    "model.layers[0].get_config()\n",
    "model.layers[0].input_shape\n",
    "model.layers[0].output_shape\n",
    "model.layers[0].get_weights()\n",
    "np.shape(model.layers[0].get_weights()[0])\n",
    "model.layers[0].trainable"
   ]
  },
  {
   "cell_type": "code",
   "execution_count": 570,
   "metadata": {},
   "outputs": [
    {
     "name": "stdout",
     "output_type": "stream",
     "text": [
      "Train on 138 samples, validate on 35 samples\n",
      "Epoch 1/30\n",
      "138/138 [==============================] - 5s 40ms/step - loss: 0.7018 - accuracy: 0.5507 - val_loss: 0.6122 - val_accuracy: 0.7143\n",
      "Epoch 2/30\n",
      "138/138 [==============================] - 4s 27ms/step - loss: 0.7128 - accuracy: 0.5072 - val_loss: 0.7816 - val_accuracy: 0.2857\n",
      "Epoch 3/30\n",
      "138/138 [==============================] - 4s 27ms/step - loss: 0.6918 - accuracy: 0.5217 - val_loss: 0.8623 - val_accuracy: 0.2857\n",
      "Epoch 4/30\n",
      "138/138 [==============================] - 4s 28ms/step - loss: 0.7013 - accuracy: 0.5217 - val_loss: 0.6741 - val_accuracy: 0.7143\n",
      "Epoch 5/30\n",
      "138/138 [==============================] - 4s 29ms/step - loss: 0.6862 - accuracy: 0.5942 - val_loss: 0.6815 - val_accuracy: 0.7429\n",
      "Epoch 6/30\n",
      "138/138 [==============================] - 4s 29ms/step - loss: 0.6815 - accuracy: 0.5797 - val_loss: 0.7219 - val_accuracy: 0.3143\n",
      "Epoch 7/30\n",
      "138/138 [==============================] - 4s 29ms/step - loss: 0.6753 - accuracy: 0.6014 - val_loss: 0.7346 - val_accuracy: 0.3143\n",
      "Epoch 8/30\n",
      "138/138 [==============================] - 4s 29ms/step - loss: 0.6602 - accuracy: 0.6014 - val_loss: 0.6396 - val_accuracy: 0.7143\n",
      "Epoch 9/30\n",
      "138/138 [==============================] - 4s 29ms/step - loss: 0.6397 - accuracy: 0.6304 - val_loss: 0.6174 - val_accuracy: 0.7143\n",
      "Epoch 10/30\n",
      "138/138 [==============================] - 4s 29ms/step - loss: 0.7049 - accuracy: 0.4710 - val_loss: 0.6809 - val_accuracy: 0.8000\n",
      "Epoch 11/30\n",
      "138/138 [==============================] - 4s 30ms/step - loss: 0.6757 - accuracy: 0.5652 - val_loss: 0.7073 - val_accuracy: 0.3143\n",
      "Epoch 12/30\n",
      "138/138 [==============================] - 4s 30ms/step - loss: 0.6467 - accuracy: 0.6232 - val_loss: 0.6509 - val_accuracy: 0.8286\n",
      "Epoch 13/30\n",
      "138/138 [==============================] - 4s 29ms/step - loss: 0.6410 - accuracy: 0.7246 - val_loss: 0.6652 - val_accuracy: 0.6571\n",
      "Epoch 14/30\n",
      "138/138 [==============================] - 4s 29ms/step - loss: 0.6115 - accuracy: 0.6957 - val_loss: 0.6583 - val_accuracy: 0.6571\n",
      "Epoch 15/30\n",
      "138/138 [==============================] - 4s 30ms/step - loss: 0.6033 - accuracy: 0.7536 - val_loss: 0.6370 - val_accuracy: 0.7714\n",
      "Epoch 16/30\n",
      "138/138 [==============================] - 4s 29ms/step - loss: 0.5896 - accuracy: 0.7826 - val_loss: 0.7503 - val_accuracy: 0.3429\n",
      "Epoch 17/30\n",
      "138/138 [==============================] - 4s 29ms/step - loss: 0.5658 - accuracy: 0.7609 - val_loss: 0.7335 - val_accuracy: 0.3429\n",
      "Epoch 18/30\n",
      "138/138 [==============================] - 4s 29ms/step - loss: 0.5494 - accuracy: 0.7971 - val_loss: 0.6688 - val_accuracy: 0.5714\n",
      "Epoch 19/30\n",
      "138/138 [==============================] - 4s 30ms/step - loss: 0.5176 - accuracy: 0.7971 - val_loss: 0.5771 - val_accuracy: 0.8571\n",
      "Epoch 20/30\n",
      "138/138 [==============================] - 4s 29ms/step - loss: 0.5048 - accuracy: 0.8406 - val_loss: 0.5259 - val_accuracy: 0.8286\n",
      "Epoch 21/30\n",
      "138/138 [==============================] - 4s 29ms/step - loss: 0.4596 - accuracy: 0.8841 - val_loss: 0.7770 - val_accuracy: 0.3714\n",
      "Epoch 22/30\n",
      "138/138 [==============================] - 4s 29ms/step - loss: 0.4343 - accuracy: 0.8478 - val_loss: 0.4938 - val_accuracy: 0.8571\n",
      "Epoch 23/30\n",
      "138/138 [==============================] - 4s 29ms/step - loss: 0.3914 - accuracy: 0.8986 - val_loss: 0.5398 - val_accuracy: 0.7429\n",
      "Epoch 24/30\n",
      "138/138 [==============================] - 4s 29ms/step - loss: 0.4036 - accuracy: 0.8551 - val_loss: 0.4326 - val_accuracy: 0.8571\n",
      "Epoch 25/30\n",
      "138/138 [==============================] - 4s 29ms/step - loss: 0.3434 - accuracy: 0.8913 - val_loss: 0.5675 - val_accuracy: 0.6571\n",
      "Epoch 26/30\n",
      "138/138 [==============================] - 4s 29ms/step - loss: 0.3036 - accuracy: 0.9275 - val_loss: 0.7281 - val_accuracy: 0.6000\n",
      "Epoch 27/30\n",
      "138/138 [==============================] - 4s 30ms/step - loss: 0.2860 - accuracy: 0.9275 - val_loss: 0.4278 - val_accuracy: 0.9143\n",
      "Epoch 28/30\n",
      "138/138 [==============================] - 4s 31ms/step - loss: 0.2410 - accuracy: 0.9420 - val_loss: 0.3452 - val_accuracy: 0.8571\n",
      "Epoch 29/30\n",
      "138/138 [==============================] - 4s 30ms/step - loss: 0.2807 - accuracy: 0.9348 - val_loss: 0.3579 - val_accuracy: 0.8000\n",
      "Epoch 30/30\n",
      "138/138 [==============================] - 4s 30ms/step - loss: 0.2340 - accuracy: 0.9348 - val_loss: 0.3538 - val_accuracy: 0.9143\n"
     ]
    }
   ],
   "source": [
    "hist = model.fit(X_train, y_train, batch_size=16, epochs=30, verbose=1, validation_data=(X_test, y_test))"
   ]
  },
  {
   "cell_type": "markdown",
   "metadata": {},
   "source": [
    "***Evaluating the model***"
   ]
  },
  {
   "cell_type": "code",
   "execution_count": 571,
   "metadata": {},
   "outputs": [
    {
     "name": "stdout",
     "output_type": "stream",
     "text": [
      "Test Loss: 0.3538403902735029\n",
      "Test accuracy: 0.9142857193946838\n",
      "(1, 128, 128, 1)\n",
      "[[0.68]]\n",
      "[[1]]\n",
      "[1]\n"
     ]
    }
   ],
   "source": [
    "score = model.evaluate(X_test, y_test, verbose=0)\n",
    "print('Test Loss:', score[0])\n",
    "print('Test accuracy:', score[1])\n",
    "\n",
    "test_image = X_test[8:9]\n",
    "print (test_image.shape)\n",
    "\n",
    "print(model.predict(test_image))\n",
    "print(model.predict_classes(test_image))\n",
    "print(y_test[8:9])"
   ]
  },
  {
   "cell_type": "code",
   "execution_count": 572,
   "metadata": {},
   "outputs": [
    {
     "data": {
      "text/plain": [
       "<matplotlib.image.AxesImage at 0x212ea08e7b8>"
      ]
     },
     "execution_count": 572,
     "metadata": {},
     "output_type": "execute_result"
    },
    {
     "data": {
      "image/png": "[encoded data removed]",
      "text/plain": [
       "<Figure size 432x288 with 1 Axes>"
      ]
     },
     "metadata": {
      "needs_background": "light"
     },
     "output_type": "display_data"
    }
   ],
   "source": [
    "train_data = np.reshape(X_test[8:9],(128, 128))\n",
    "train_data.shape\n",
    "plt.imshow(train_data,cmap=\"binary\")"
   ]
  },
  {
   "cell_type": "code",
   "execution_count": 573,
   "metadata": {},
   "outputs": [
    {
     "data": {
      "text/plain": [
       "array([0, 1, 0, 0, 0, 1, 0, 0, 1, 0, 0, 0, 0, 0, 0, 0, 1, 0, 0, 0, 1, 0,\n",
       "       0, 1, 0, 1, 1, 1, 0, 0, 0, 0, 1, 0, 0], dtype=uint8)"
      ]
     },
     "execution_count": 573,
     "metadata": {},
     "output_type": "execute_result"
    }
   ],
   "source": [
    "y_test"
   ]
  },
  {
   "cell_type": "markdown",
   "metadata": {},
   "source": [
    "***Testing the model with a new image***"
   ]
  },
  {
   "cell_type": "code",
   "execution_count": 574,
   "metadata": {},
   "outputs": [
    {
     "name": "stdout",
     "output_type": "stream",
     "text": [
      "(128, 128)\n"
     ]
    }
   ],
   "source": [
    "# Testing a new math image \n",
    "predictPathmath=PATH + '\\\\predict\\\\math\\\\'\n",
    "test_image = cv2.imread(predictPathmath+'\\\\math.jpg')\n",
    "test_image=cv2.cvtColor(test_image, cv2.COLOR_BGR2GRAY)\n",
    "test_image=cv2.resize(test_image,(128,128))\n",
    "#cv2.imwrite('C:\\Users\\mrudh\\Desktop\\Python\\ProjectTry\\MathRecognitionProject\\Main\\Resize\\NonMathnew.jpeg',test_image)\n",
    "test_image = np.array(test_image)\n",
    "test_image = test_image.astype('float32')\n",
    "test_image /= 255\n",
    "print (test_image.shape)"
   ]
  },
  {
   "cell_type": "code",
   "execution_count": 575,
   "metadata": {},
   "outputs": [
    {
     "name": "stdout",
     "output_type": "stream",
     "text": [
      "(128, 128, 1)\n"
     ]
    }
   ],
   "source": [
    "img_data= np.expand_dims(test_image, axis=2) \n",
    "print (img_data.shape)"
   ]
  },
  {
   "cell_type": "code",
   "execution_count": 576,
   "metadata": {},
   "outputs": [
    {
     "name": "stdout",
     "output_type": "stream",
     "text": [
      "(1, 128, 128, 1)\n"
     ]
    }
   ],
   "source": [
    "img_data= np.expand_dims(img_data, axis=0)\n",
    "print (img_data.shape)"
   ]
  },
  {
   "cell_type": "code",
   "execution_count": 577,
   "metadata": {},
   "outputs": [
    {
     "name": "stdout",
     "output_type": "stream",
     "text": [
      "[[0.3]]\n",
      "[[0]]\n"
     ]
    }
   ],
   "source": [
    "print((model.predict(img_data)))\n",
    "print(model.predict_classes(img_data))"
   ]
  },
  {
   "cell_type": "code",
   "execution_count": 578,
   "metadata": {},
   "outputs": [
    {
     "name": "stdout",
     "output_type": "stream",
     "text": [
      "(128, 128)\n"
     ]
    }
   ],
   "source": [
    "# Testing a new non math image \n",
    "predictPathnonmath=PATH + '\\\\predict\\\\nonmath\\\\'\n",
    "test_image = cv2.imread(predictPathnonmath+'\\\\nonmath.jpg')\n",
    "test_image=cv2.cvtColor(test_image, cv2.COLOR_BGR2GRAY)\n",
    "test_image=cv2.resize(test_image,(128,128))\n",
    "#cv2.imwrite('C:\\Users\\mrudh\\Desktop\\Python\\ProjectTry\\MathRecognitionProject\\Main\\Resize\\NonMathnew.jpeg',test_image)\n",
    "test_image = np.array(test_image)\n",
    "test_image = test_image.astype('float32')\n",
    "test_image /= 255\n",
    "print (test_image.shape)"
   ]
  },
  {
   "cell_type": "code",
   "execution_count": 579,
   "metadata": {},
   "outputs": [
    {
     "name": "stdout",
     "output_type": "stream",
     "text": [
      "(128, 128, 1)\n"
     ]
    }
   ],
   "source": [
    "img_data= np.expand_dims(test_image, axis=2) \n",
    "print (img_data.shape)"
   ]
  },
  {
   "cell_type": "code",
   "execution_count": 580,
   "metadata": {},
   "outputs": [
    {
     "name": "stdout",
     "output_type": "stream",
     "text": [
      "(1, 128, 128, 1)\n"
     ]
    }
   ],
   "source": [
    "img_data= np.expand_dims(img_data, axis=0)\n",
    "print (img_data.shape)"
   ]
  },
  {
   "cell_type": "code",
   "execution_count": 581,
   "metadata": {},
   "outputs": [
    {
     "name": "stdout",
     "output_type": "stream",
     "text": [
      "[[0.87]]\n",
      "[[1]]\n"
     ]
    }
   ],
   "source": [
    "print((model.predict(img_data)))\n",
    "print(model.predict_classes(img_data))"
   ]
  },
  {
   "cell_type": "code",
   "execution_count": 582,
   "metadata": {},
   "outputs": [
    {
     "name": "stdout",
     "output_type": "stream",
     "text": [
      "[0.12]\n",
      "              precision    recall  f1-score   support\n",
      "\n",
      "        math       1.00      0.88      0.94        25\n",
      "     nonmath       0.77      1.00      0.87        10\n",
      "\n",
      "    accuracy                           0.91        35\n",
      "   macro avg       0.88      0.94      0.90        35\n",
      "weighted avg       0.93      0.91      0.92        35\n",
      "\n"
     ]
    }
   ],
   "source": [
    "#%%\n",
    "# Printing the confusion matrix\n",
    "from sklearn.metrics import classification_report,confusion_matrix\n",
    "import itertools\n",
    "\n",
    "Y_pred = model.predict(X_test)\n",
    "print(Y_pred[0])\n",
    "y_pred = np.argmax(Y_pred, axis=1)\n",
    "#print(y_pred[0])\n",
    "#y_pred = model.predict_classes(X_test)\n",
    "#print(y_pred)\n",
    "target_names = ['math', 'nonmath']\n",
    "print(classification_report(y_test, Y_pred.round(),target_names=target_names))\n",
    "\n"
   ]
  },
  {
   "cell_type": "code",
   "execution_count": 583,
   "metadata": {},
   "outputs": [
    {
     "name": "stdout",
     "output_type": "stream",
     "text": [
      "[[22  3]\n",
      " [ 0 10]]\n"
     ]
    }
   ],
   "source": [
    "print(confusion_matrix(y_test, Y_pred.round()))"
   ]
  },
  {
   "cell_type": "code",
   "execution_count": 598,
   "metadata": {},
   "outputs": [
    {
     "name": "stdout",
     "output_type": "stream",
     "text": [
      "[0 1 0 0 0 1 0 0 1 0 0 0 0 0 0 0 1 0 0 0 1 0 0 1 0 1 1 1 0 0 0 0 1 0 0]\n",
      "[0. 1. 0. 0. 1. 1. 1. 0. 1. 0. 0. 0. 0. 0. 0. 0. 1. 0. 0. 0. 1. 0. 0. 1.\n",
      " 0. 1. 1. 1. 0. 0. 0. 0. 1. 1. 0.]\n"
     ]
    }
   ],
   "source": [
    "print(y_test)\n",
    "print(Y_pred.round().ravel())"
   ]
  },
  {
   "cell_type": "code",
   "execution_count": 592,
   "metadata": {},
   "outputs": [
    {
     "name": "stdout",
     "output_type": "stream",
     "text": [
      "[0]\n",
      "[[0.7]]\n",
      "[False False False False  True False  True False False False False False\n",
      " False False False False False False False False False False False False\n",
      " False False False False False False False False False  True False]\n"
     ]
    }
   ],
   "source": [
    "print(y_test[6:7])\n",
    "print(Y_pred[6:7])\n",
    "print(y_test!=Y_pred.round().ravel())"
   ]
  },
  {
   "cell_type": "code",
   "execution_count": 588,
   "metadata": {},
   "outputs": [
    {
     "data": {
      "text/plain": [
       "<matplotlib.image.AxesImage at 0x212ebe517b8>"
      ]
     },
     "execution_count": 588,
     "metadata": {},
     "output_type": "execute_result"
    },
    {
     "data": {
      "image/png": "[encoded data removed]",
      "text/plain": [
       "<Figure size 432x288 with 1 Axes>"
      ]
     },
     "metadata": {
      "needs_background": "light"
     },
     "output_type": "display_data"
    }
   ],
   "source": [
    "train_data = np.reshape(X_test[6:7],(128, 128))\n",
    "train_data.shape\n",
    "plt.imshow(train_data,cmap=\"binary\")"
   ]
  },
  {
   "cell_type": "code",
   "execution_count": 586,
   "metadata": {},
   "outputs": [],
   "source": [
    "\n",
    "# Plotting the confusion matrix\n",
    "def plot_confusion_matrix(cm, classes,\n",
    "                          normalize=False,\n",
    "                          title='Confusion matrix',\n",
    "                          cmap=plt.cm.Blues):\n",
    "    \"\"\"\n",
    "    This function prints and plots the confusion matrix.\n",
    "    Normalization can be applied by setting `normalize=True`.\n",
    "    \"\"\"\n",
    "    plt.imshow(cm, interpolation='nearest', cmap=cmap)\n",
    "    plt.title(title)\n",
    "    plt.colorbar()\n",
    "    tick_marks = np.arange(len(classes))\n",
    "    plt.xticks(tick_marks, classes, rotation=45)\n",
    "    plt.yticks(tick_marks, classes)\n",
    "\n",
    "    if normalize:\n",
    "        cm = cm.astype('float') / cm.sum(axis=1)[:, np.newaxis]\n",
    "        print(\"Normalized confusion matrix\")\n",
    "    else:\n",
    "        print('Confusion matrix, without normalization')\n",
    "\n",
    "    print(cm)\n",
    "\n",
    "    thresh = cm.max() / 2.\n",
    "    for i, j in itertools.product(range(cm.shape[0]), range(cm.shape[1])):\n",
    "        plt.text(j, i, cm[i, j],\n",
    "                 horizontalalignment=\"center\",\n",
    "                 color=\"white\" if cm[i, j] > thresh else \"black\")\n",
    "\n",
    "    plt.tight_layout()\n",
    "    plt.ylabel('True label')\n",
    "    plt.xlabel('Predicted label')"
   ]
  },
  {
   "cell_type": "code",
   "execution_count": 587,
   "metadata": {},
   "outputs": [
    {
     "name": "stdout",
     "output_type": "stream",
     "text": [
      "Confusion matrix, without normalization\n",
      "[[22  3]\n",
      " [ 0 10]]\n"
     ]
    },
    {
     "data": {
      "image/png": "[encoded data removed]",
      "text/plain": [
       "<Figure size 432x288 with 2 Axes>"
      ]
     },
     "metadata": {
      "needs_background": "light"
     },
     "output_type": "display_data"
    }
   ],
   "source": [
    "# Compute confusion matrix\n",
    "cnf_matrix = (confusion_matrix(y_test, Y_pred.round()))\n",
    "\n",
    "np.set_printoptions(precision=2)\n",
    "\n",
    "plt.figure()\n",
    "\n",
    "# Plot non-normalized confusion matrix\n",
    "plot_confusion_matrix(cnf_matrix, classes=target_names,\n",
    "                      title='Confusion matrix')\n",
    "#plt.figure()\n",
    "# Plot normalized confusion matrix\n",
    "#plot_confusion_matrix(cnf_matrix, classes=target_names, normalize=True,\n",
    "#                      title='Normalized confusion matrix')\n",
    "#plt.figure()\n",
    "plt.show()"
   ]
  },
  {
   "cell_type": "code",
   "execution_count": null,
   "metadata": {},
   "outputs": [],
   "source": []
  }
 ],
 "metadata": {
  "kernelspec": {
   "display_name": "Python 3",
   "language": "python",
   "name": "python3"
  },
  "language_info": {
   "codemirror_mode": {
    "name": "ipython",
    "version": 3
   },
   "file_extension": ".py",
   "mimetype": "text/x-python",
   "name": "python",
   "nbconvert_exporter": "python",
   "pygments_lexer": "ipython3",
   "version": "3.7.3"
  }
 },
 "nbformat": 4,
 "nbformat_minor": 2
}
